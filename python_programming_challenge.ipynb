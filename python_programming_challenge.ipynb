{
 "cells": [
  {
   "cell_type": "markdown",
   "metadata": {},
   "source": [
    "## Poker Hand\n",
    "\n",
    "In this challenge, we have to find out which kind of Poker combination is present in a deck of 5 cards.Every card is a string containing the card value (with the upper-case initial for face-cards) and the lower-case initial for suits, as in the examples below:\n",
    "\n",
    "> \"Ah\" ➞ Ace of hearts <br>\n",
    "> \"Ks\" ➞ King of spades<br>\n",
    "> \"3d\" ➞ Three of diamonds<br>\n",
    "> \"Qc\" ➞ Queen of clubs <br>\n",
    "\n",
    "There are 10 different combinations. Here's the list, in decreasing order of importance:"
   ]
  },
  {
   "cell_type": "markdown",
   "metadata": {},
   "source": [
    "| Name            | Description                                         |\n",
    "|-----------------|-----------------------------------------------------|\n",
    "| Royal Flush     | A, K, Q, J, 10, all with the same suit.             |\n",
    "| Straight Flush  | Five cards in sequence, all with the same suit.     |\n",
    "| Four of a Kind  | Four cards of the same rank.                        |\n",
    "| Full House      | Three of a Kind with a Pair.                        |\n",
    "| Flush           | Any five cards of the same suit, not in sequence    |\n",
    "| Straight        | Five cards in a sequence, but not of the same suit. |\n",
    "| Three of a Kind | Three cards of the same rank.                       |\n",
    "| Two Pair        | Two different Pairs.                                |\n",
    "| Pair            | Two cards of the same rank.                         |\n",
    "| High Card       | No other valid combination.                         |"
   ]
  },
  {
   "cell_type": "markdown",
   "metadata": {},
   "source": [
    "### 1. Given a list `hand` containing five strings being the cards, implement a function `poker_hand_ranking` that returns a string with the name of the **highest** combination obtained, accordingly to the table above.\n",
    "\n",
    "#### Examples\n",
    "\n",
    "> poker_hand_ranking([\"10h\", \"Jh\", \"Qh\", \"Ah\", \"Kh\"]) ➞ \"Royal Flush\"<br>\n",
    "> poker_hand_ranking([\"3h\", \"5h\", \"Qs\", \"9h\", \"Ad\"]) ➞ \"High Card\"<br>\n",
    "> poker_hand_ranking([\"10s\", \"10c\", \"8d\", \"10d\", \"10h\"]) ➞ \"Four of a Kind\"<br>"
   ]
  },
  {
   "cell_type": "code",
   "execution_count": 210,
   "metadata": {},
   "outputs": [],
   "source": [
    "def score(X):\n",
    "    suit=[]\n",
    "    suit_uniq={}\n",
    "    rank=[]\n",
    "    F_rank=['A','2','3','4','5','6','7','8','9','10','J','Q','K','A']\n",
    "    L_score_nom=[]\n",
    "    for i in X:\n",
    "        \n",
    "        suit.append(i[-1:])\n",
    "        suit_uniq=set(suit)\n",
    "        rank.append(i[:-1])\n",
    "        \n",
    "        \n",
    "    if len(suit_uniq)==1:      \n",
    "        for i in range(10):\n",
    "            if set(rank) ==set(F_rank[i:i+5]):\n",
    "                if set(rank)=={'A', 'K', 'Q', 'J', '10'}:\n",
    "                    L_score_nom.append(10)\n",
    "                else:\n",
    "                    L_score_nom.append(9)\n",
    "            else:\n",
    "                L_score_nom.append(6)\n",
    "                \n",
    "    if len(set(rank))==2:\n",
    "        if (len(set(sorted(rank)[:-1]))==1) or (len(set(sorted(rank)[1:]))==1):\n",
    "            L_score_nom.append(8)\n",
    "        else:\n",
    "            L_score_nom.append(7)\n",
    "    \n",
    "    if len(suit_uniq)!=1:\n",
    "        for i in range(10):\n",
    "            if set(rank) ==set(F_rank[i:i+5]):\n",
    "                L_score_nom.append(5)\n",
    "            \n",
    "    if (len(set(sorted(rank)[:-2]))==1) or (len(set(sorted(rank)[2:]))==1):\n",
    "        L_score_nom.append(4)\n",
    "    \n",
    "    if len(set(rank))==3:\n",
    "        L_score_nom.append(3)\n",
    "    if len(set(rank))==4:\n",
    "        L_score_nom.append(2)\n",
    "    \n",
    "    L_score_nom.append(1)\n",
    "    \n",
    "    return max(L_score_nom)\n",
    "    \n",
    "               \n",
    "def poker_hand_ranking(X):\n",
    "\n",
    "    if score(X)==10:\n",
    "        return 'Royal Flush'\n",
    "    if score(X)==9:\n",
    "        return 'Straight Flush'\n",
    "    if score(X)==8:\n",
    "        return 'Four of a Kind'\n",
    "    if score(X)==7:\n",
    "        return 'Full House'\n",
    "    if score(X)==6:\n",
    "        return 'Flush'\n",
    "    if score(X)==5:\n",
    "        return 'Straight'\n",
    "    if score(X)==4:\n",
    "        return 'Three of a Kind'\n",
    "    if score(X)==3:\n",
    "        return 'Two Pair'\n",
    "    if score(X)==2:\n",
    "        return 'Pair'\n",
    "    if score(X)==1:\n",
    "        return 'High Card'\n",
    "    else:\n",
    "        return 'impossible'\n",
    "        \n",
    "        \n",
    "        \n",
    "        \n",
    "    "
   ]
  },
  {
   "cell_type": "code",
   "execution_count": 211,
   "metadata": {},
   "outputs": [
    {
     "data": {
      "text/plain": [
       "'Royal Flush'"
      ]
     },
     "execution_count": 211,
     "metadata": {},
     "output_type": "execute_result"
    }
   ],
   "source": [
    "poker_hand_ranking([\"10h\", \"Jh\", \"Qh\", \"Ah\", \"Kh\"])"
   ]
  },
  {
   "cell_type": "code",
   "execution_count": 212,
   "metadata": {},
   "outputs": [
    {
     "data": {
      "text/plain": [
       "'High Card'"
      ]
     },
     "execution_count": 212,
     "metadata": {},
     "output_type": "execute_result"
    }
   ],
   "source": [
    "poker_hand_ranking([\"3h\", \"5h\", \"Qs\", \"9h\", \"Ad\"])"
   ]
  },
  {
   "cell_type": "code",
   "execution_count": 213,
   "metadata": {},
   "outputs": [
    {
     "data": {
      "text/plain": [
       "'Four of a Kind'"
      ]
     },
     "execution_count": 213,
     "metadata": {},
     "output_type": "execute_result"
    }
   ],
   "source": [
    "poker_hand_ranking([\"10s\", \"10c\", \"8d\", \"10d\", \"10h\"])"
   ]
  },
  {
   "cell_type": "markdown",
   "metadata": {},
   "source": [
    "# **Stretch Content**\n",
    "\n",
    "### 2.  Implement a function `winner_is` that returns the winner given a dictionary with different players and their hands. For example:\n",
    "\n",
    "#### Example\n",
    "\n",
    "We define dictionary like\n",
    "```\n",
    "round_1 = {\"John\" = [\"10h\", \"Jh\", \"Qh\", \"Ah\", \"Kh\"], \n",
    "        \"Peter\" = [\"3h\", \"5h\", \"Qs\", \"9h\", \"Ad\"]\n",
    "}\n",
    "```\n",
    "\n",
    "Our function returns the name of the winner:\n",
    "> winner_is(round_1) -> \"John\"\n",
    "\n",
    "One table can have up to 10 players.\n"
   ]
  },
  {
   "cell_type": "code",
   "execution_count": 417,
   "metadata": {},
   "outputs": [],
   "source": [
    "round_1 = {\"John\" : [\"10h\", \"Jh\", \"Qh\", \"Ah\", \"Kh\"], \"Peter\" : [\"3h\", \"5h\", \"Qs\", \"9h\", \"Ad\"]}"
   ]
  },
  {
   "cell_type": "code",
   "execution_count": 418,
   "metadata": {},
   "outputs": [],
   "source": [
    "# def winner_is(Y):\n",
    "#     Names= list(Y.keys())\n",
    "#     L_point=score(Y[Names[0]])\n",
    "#     R_point=score(Y[Names[1]])\n",
    "#     if L_point>R_point:\n",
    "#         return Names[0]\n",
    "#     elif L_point<R_point:\n",
    "#         return Names[1]\n",
    "#     else:\n",
    "#         return 'Tie'"
   ]
  },
  {
   "cell_type": "code",
   "execution_count": 419,
   "metadata": {},
   "outputs": [],
   "source": [
    "def winner_is(Y):\n",
    "    Names= list(Y.keys())\n",
    "    N_players=len(Names)\n",
    "    l_score=[score(Y[Names[v]]) for v in range(N_players)]\n",
    "    winner_index=[i for i,val in enumerate(l_score) if val==max(l_score)]\n",
    "    winner=''\n",
    "    for m in winner_index:\n",
    "        winner=winner+Names[m]+', '\n",
    "    return winner[:-2]"
   ]
  },
  {
   "cell_type": "code",
   "execution_count": 420,
   "metadata": {},
   "outputs": [
    {
     "data": {
      "text/plain": [
       "'John'"
      ]
     },
     "execution_count": 420,
     "metadata": {},
     "output_type": "execute_result"
    }
   ],
   "source": [
    "winner_is(round_1)"
   ]
  },
  {
   "cell_type": "markdown",
   "metadata": {},
   "source": [
    "### 3. Create a generator that randomly gives 5 cards to every player given a list of player names\n",
    "#### Example\n",
    "\n",
    "> distribute_cards([\"John\",\"Peter\"])  -> round_1 = {\"John\" = [\"10h\", \"Jh\", \"Qh\", \"Ah\", \"Kh\"], \n",
    "        \"Peter\" = [\"3h\", \"5h\", \"Qs\", \"9h\", \"Ad\"]\n",
    "}"
   ]
  },
  {
   "cell_type": "code",
   "execution_count": 426,
   "metadata": {},
   "outputs": [],
   "source": [
    "import random\n",
    "\n",
    "def distribute_cards(N):\n",
    "    C_suit=['h','s','d','c']  \n",
    "    F_rank=['2','3','4','5','6','7','8','9','10','J','Q','K','A']\n",
    "    F_deck=[]\n",
    "    if len(N)>10:\n",
    "        return('Too many players')\n",
    "        \n",
    "    for c in C_suit:\n",
    "        for f in F_rank:\n",
    "            F_deck.append(f+c)\n",
    "    random.shuffle(F_deck)\n",
    "    s_deck=F_deck[:len(N)*5]\n",
    "    round_1={}\n",
    "    for n in N:\n",
    "        if n not in round_1:\n",
    "            round_1[n] = s_deck[:5]\n",
    "        s_deck=s_deck[5:]\n",
    "    return round_1"
   ]
  },
  {
   "cell_type": "code",
   "execution_count": 427,
   "metadata": {},
   "outputs": [
    {
     "data": {
      "text/plain": [
       "{'Wonho': ['7s', '6h', 'Kh', '5d', '2d'],\n",
       " 'Mikayla': ['4h', '3h', '4c', '9h', '9s'],\n",
       " 'Taylor': ['Ac', 'As', '9d', 'Qh', '10h'],\n",
       " 'Tate': ['8c', '8d', '6s', '7c', 'Ah']}"
      ]
     },
     "execution_count": 427,
     "metadata": {},
     "output_type": "execute_result"
    }
   ],
   "source": [
    "distribute_cards(['Wonho','Mikayla','Taylor','Tate'])"
   ]
  },
  {
   "cell_type": "code",
   "execution_count": 428,
   "metadata": {},
   "outputs": [
    {
     "data": {
      "text/plain": [
       "'Too many players'"
      ]
     },
     "execution_count": 428,
     "metadata": {},
     "output_type": "execute_result"
    }
   ],
   "source": [
    "distribute_cards(['Wonho','Mikayla','Taylor','Tate','s','sdf','df','e','y','u','e'])"
   ]
  },
  {
   "cell_type": "code",
   "execution_count": 429,
   "metadata": {},
   "outputs": [
    {
     "data": {
      "text/plain": [
       "'Wonho, Taylor'"
      ]
     },
     "execution_count": 429,
     "metadata": {},
     "output_type": "execute_result"
    }
   ],
   "source": [
    "winner_is(distribute_cards(['Wonho','Mikayla','Taylor','Tate']))"
   ]
  },
  {
   "cell_type": "code",
   "execution_count": null,
   "metadata": {},
   "outputs": [],
   "source": []
  }
 ],
 "metadata": {
  "kernelspec": {
   "display_name": "Python 3",
   "language": "python",
   "name": "python3"
  },
  "language_info": {
   "codemirror_mode": {
    "name": "ipython",
    "version": 3
   },
   "file_extension": ".py",
   "mimetype": "text/x-python",
   "name": "python",
   "nbconvert_exporter": "python",
   "pygments_lexer": "ipython3",
   "version": "3.6.12"
  }
 },
 "nbformat": 4,
 "nbformat_minor": 4
}
